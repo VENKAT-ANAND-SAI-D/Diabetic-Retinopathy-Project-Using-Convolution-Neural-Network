{
 "cells": [
  {
   "cell_type": "code",
   "execution_count": 3,
   "metadata": {},
   "outputs": [],
   "source": [
    "from keras.preprocessing.image import ImageDataGenerator"
   ]
  },
  {
   "cell_type": "code",
   "execution_count": 4,
   "metadata": {},
   "outputs": [],
   "source": [
    "train_datagen=ImageDataGenerator(rescale=1./255,shear_range=0.2,zoom_range=0.2,horizontal_flip=True)\n",
    "test_datagen=ImageDataGenerator(rescale=1./255)"
   ]
  },
  {
   "cell_type": "code",
   "execution_count": 5,
   "metadata": {},
   "outputs": [
    {
     "name": "stdout",
     "output_type": "stream",
     "text": [
      "Found 2929 images belonging to 5 classes.\n",
      "Found 2929 images belonging to 5 classes.\n"
     ]
    }
   ],
   "source": [
    "x_train=train_datagen.flow_from_directory(r'gaussian_filtered_images\\train_set',target_size=(224,224),batch_size=32,class_mode='categorical')   \n",
    "x_test=train_datagen.flow_from_directory(r'gaussian_filtered_images\\train_set',target_size=(224,224),batch_size=32,class_mode='categorical')"
   ]
  },
  {
   "cell_type": "code",
   "execution_count": 6,
   "metadata": {},
   "outputs": [],
   "source": [
    "from keras.models import Sequential\n",
    "from keras.layers import Dense\n",
    "from keras.layers import Conv2D\n",
    "from keras.layers import MaxPool2D\n",
    "from keras.layers import Flatten"
   ]
  },
  {
   "cell_type": "code",
   "execution_count": 8,
   "metadata": {},
   "outputs": [],
   "source": [
    "model=Sequential()"
   ]
  },
  {
   "cell_type": "code",
   "execution_count": 9,
   "metadata": {},
   "outputs": [],
   "source": [
    "model.add(Conv2D(filters=32, kernel_size=3, activation='relu', input_shape=[224, 224, 3]))\n",
    "model.add(MaxPool2D(pool_size=2, strides=2))"
   ]
  },
  {
   "cell_type": "code",
   "execution_count": 11,
   "metadata": {},
   "outputs": [],
   "source": [
    "model.add(Conv2D(filters=32, kernel_size=3, activation='relu'))\n",
    "model.add(MaxPool2D(pool_size=2, strides=2))"
   ]
  },
  {
   "cell_type": "code",
   "execution_count": 12,
   "metadata": {},
   "outputs": [],
   "source": [
    "model.add(Flatten())"
   ]
  },
  {
   "cell_type": "code",
   "execution_count": 13,
   "metadata": {},
   "outputs": [],
   "source": [
    "model.add(Dense(units=128, activation='relu'))"
   ]
  },
  {
   "cell_type": "code",
   "execution_count": 14,
   "metadata": {},
   "outputs": [],
   "source": [
    "model.add(Dense(units=5, activation='softmax'))"
   ]
  },
  {
   "cell_type": "code",
   "execution_count": 15,
   "metadata": {},
   "outputs": [],
   "source": [
    "model.compile(optimizer = 'adam', loss = 'categorical_crossentropy', metrics = ['categorical_accuracy','accuracy'])   "
   ]
  },
  {
   "cell_type": "code",
   "execution_count": 17,
   "metadata": {},
   "outputs": [
    {
     "name": "stdout",
     "output_type": "stream",
     "text": [
      "Epoch 1/25\n",
      "92/92 [==============================] - 249s 3s/step - loss: 1.1206 - categorical_accuracy: 0.6053 - accuracy: 0.6053 - val_loss: 0.9799 - val_categorical_accuracy: 0.6688 - val_accuracy: 0.6688\n",
      "Epoch 2/25\n",
      "92/92 [==============================] - 218s 2s/step - loss: 0.9222 - categorical_accuracy: 0.6845 - accuracy: 0.6845 - val_loss: 0.8709 - val_categorical_accuracy: 0.7016 - val_accuracy: 0.7016\n",
      "Epoch 3/25\n",
      "92/92 [==============================] - 179s 2s/step - loss: 0.8690 - categorical_accuracy: 0.7016 - accuracy: 0.7016 - val_loss: 0.8358 - val_categorical_accuracy: 0.7037 - val_accuracy: 0.7037\n",
      "Epoch 4/25\n",
      "92/92 [==============================] - 176s 2s/step - loss: 0.8464 - categorical_accuracy: 0.7084 - accuracy: 0.7084 - val_loss: 0.8477 - val_categorical_accuracy: 0.7006 - val_accuracy: 0.7006\n",
      "Epoch 5/25\n",
      "92/92 [==============================] - 177s 2s/step - loss: 0.8686 - categorical_accuracy: 0.6975 - accuracy: 0.6975 - val_loss: 0.8738 - val_categorical_accuracy: 0.6903 - val_accuracy: 0.6903\n",
      "Epoch 6/25\n",
      "92/92 [==============================] - 175s 2s/step - loss: 0.8225 - categorical_accuracy: 0.7002 - accuracy: 0.7002 - val_loss: 0.8238 - val_categorical_accuracy: 0.7037 - val_accuracy: 0.7037\n",
      "Epoch 7/25\n",
      "92/92 [==============================] - 178s 2s/step - loss: 0.8150 - categorical_accuracy: 0.7088 - accuracy: 0.7088 - val_loss: 0.7901 - val_categorical_accuracy: 0.7180 - val_accuracy: 0.7180\n",
      "Epoch 8/25\n",
      "92/92 [==============================] - 176s 2s/step - loss: 0.7925 - categorical_accuracy: 0.7118 - accuracy: 0.7118 - val_loss: 0.7887 - val_categorical_accuracy: 0.7207 - val_accuracy: 0.7207\n",
      "Epoch 9/25\n",
      "92/92 [==============================] - 176s 2s/step - loss: 0.7872 - categorical_accuracy: 0.7081 - accuracy: 0.7081 - val_loss: 0.7644 - val_categorical_accuracy: 0.7163 - val_accuracy: 0.7163\n",
      "Epoch 10/25\n",
      "92/92 [==============================] - 176s 2s/step - loss: 0.7763 - categorical_accuracy: 0.7194 - accuracy: 0.7194 - val_loss: 0.7597 - val_categorical_accuracy: 0.7286 - val_accuracy: 0.7286\n",
      "Epoch 11/25\n",
      "92/92 [==============================] - 175s 2s/step - loss: 0.7633 - categorical_accuracy: 0.7245 - accuracy: 0.7245 - val_loss: 0.7462 - val_categorical_accuracy: 0.7272 - val_accuracy: 0.7272\n",
      "Epoch 12/25\n",
      "92/92 [==============================] - 176s 2s/step - loss: 0.7451 - categorical_accuracy: 0.7344 - accuracy: 0.7344 - val_loss: 0.7320 - val_categorical_accuracy: 0.7323 - val_accuracy: 0.7323\n",
      "Epoch 13/25\n",
      "92/92 [==============================] - 175s 2s/step - loss: 0.7517 - categorical_accuracy: 0.7231 - accuracy: 0.7231 - val_loss: 0.7202 - val_categorical_accuracy: 0.7381 - val_accuracy: 0.7381\n",
      "Epoch 14/25\n",
      "92/92 [==============================] - 177s 2s/step - loss: 0.7441 - categorical_accuracy: 0.7279 - accuracy: 0.7279 - val_loss: 0.7325 - val_categorical_accuracy: 0.7316 - val_accuracy: 0.7316\n",
      "Epoch 15/25\n",
      "92/92 [==============================] - 176s 2s/step - loss: 0.7434 - categorical_accuracy: 0.7337 - accuracy: 0.7337 - val_loss: 0.7305 - val_categorical_accuracy: 0.7289 - val_accuracy: 0.7289\n",
      "Epoch 16/25\n",
      "92/92 [==============================] - 175s 2s/step - loss: 0.7345 - categorical_accuracy: 0.7265 - accuracy: 0.7265 - val_loss: 0.7246 - val_categorical_accuracy: 0.7293 - val_accuracy: 0.7293\n",
      "Epoch 17/25\n",
      "92/92 [==============================] - 175s 2s/step - loss: 0.7338 - categorical_accuracy: 0.7354 - accuracy: 0.7354 - val_loss: 0.7171 - val_categorical_accuracy: 0.7357 - val_accuracy: 0.7357\n",
      "Epoch 18/25\n",
      "92/92 [==============================] - 176s 2s/step - loss: 0.7169 - categorical_accuracy: 0.7419 - accuracy: 0.7419 - val_loss: 0.7119 - val_categorical_accuracy: 0.7402 - val_accuracy: 0.7402\n",
      "Epoch 19/25\n",
      "92/92 [==============================] - 176s 2s/step - loss: 0.7052 - categorical_accuracy: 0.7429 - accuracy: 0.7429 - val_loss: 0.6861 - val_categorical_accuracy: 0.7515 - val_accuracy: 0.7515\n",
      "Epoch 20/25\n",
      "92/92 [==============================] - 192s 2s/step - loss: 0.6913 - categorical_accuracy: 0.7402 - accuracy: 0.7402 - val_loss: 0.6829 - val_categorical_accuracy: 0.7467 - val_accuracy: 0.7467\n",
      "Epoch 21/25\n",
      "92/92 [==============================] - 186s 2s/step - loss: 0.6958 - categorical_accuracy: 0.7429 - accuracy: 0.7429 - val_loss: 0.6925 - val_categorical_accuracy: 0.7392 - val_accuracy: 0.7392\n",
      "Epoch 22/25\n",
      "92/92 [==============================] - 179s 2s/step - loss: 0.6729 - categorical_accuracy: 0.7463 - accuracy: 0.7463 - val_loss: 0.6574 - val_categorical_accuracy: 0.7576 - val_accuracy: 0.7576\n",
      "Epoch 23/25\n",
      "92/92 [==============================] - 178s 2s/step - loss: 0.6847 - categorical_accuracy: 0.7497 - accuracy: 0.7497 - val_loss: 0.6591 - val_categorical_accuracy: 0.7542 - val_accuracy: 0.7542\n",
      "Epoch 24/25\n",
      "92/92 [==============================] - 176s 2s/step - loss: 0.6643 - categorical_accuracy: 0.7470 - accuracy: 0.7470 - val_loss: 0.6430 - val_categorical_accuracy: 0.7648 - val_accuracy: 0.7648\n",
      "Epoch 25/25\n",
      "92/92 [==============================] - 176s 2s/step - loss: 0.6672 - categorical_accuracy: 0.7521 - accuracy: 0.7521 - val_loss: 0.6723 - val_categorical_accuracy: 0.7610 - val_accuracy: 0.7610\n"
     ]
    },
    {
     "data": {
      "text/plain": [
       "<tensorflow.python.keras.callbacks.History at 0x28bd2451588>"
      ]
     },
     "execution_count": 17,
     "metadata": {},
     "output_type": "execute_result"
    }
   ],
   "source": [
    "model.fit(x=x_train,validation_data=x_test,epochs=25)"
   ]
  },
  {
   "cell_type": "code",
   "execution_count": 18,
   "metadata": {},
   "outputs": [
    {
     "name": "stdout",
     "output_type": "stream",
     "text": [
      "Epoch 1/25\n",
      "92/92 [==============================] - 174s 2s/step - loss: 0.6607 - categorical_accuracy: 0.7504 - accuracy: 0.7504 - val_loss: 0.6227 - val_categorical_accuracy: 0.7730 - val_accuracy: 0.7730\n",
      "Epoch 2/25\n",
      "92/92 [==============================] - 177s 2s/step - loss: 0.6457 - categorical_accuracy: 0.7614 - accuracy: 0.7614 - val_loss: 0.6288 - val_categorical_accuracy: 0.7624 - val_accuracy: 0.7624\n",
      "Epoch 3/25\n",
      "92/92 [==============================] - 175s 2s/step - loss: 0.6321 - categorical_accuracy: 0.7678 - accuracy: 0.7678 - val_loss: 0.6130 - val_categorical_accuracy: 0.7672 - val_accuracy: 0.7672\n",
      "Epoch 4/25\n",
      "92/92 [==============================] - 176s 2s/step - loss: 0.6393 - categorical_accuracy: 0.7631 - accuracy: 0.7631 - val_loss: 0.6576 - val_categorical_accuracy: 0.7583 - val_accuracy: 0.7583\n",
      "Epoch 5/25\n",
      "92/92 [==============================] - 173s 2s/step - loss: 0.6374 - categorical_accuracy: 0.7648 - accuracy: 0.7648 - val_loss: 0.6313 - val_categorical_accuracy: 0.7716 - val_accuracy: 0.7716\n",
      "Epoch 6/25\n",
      "92/92 [==============================] - 174s 2s/step - loss: 0.6263 - categorical_accuracy: 0.7706 - accuracy: 0.7706 - val_loss: 0.6085 - val_categorical_accuracy: 0.7651 - val_accuracy: 0.7651\n",
      "Epoch 7/25\n",
      "92/92 [==============================] - 177s 2s/step - loss: 0.6247 - categorical_accuracy: 0.7658 - accuracy: 0.7658 - val_loss: 0.6538 - val_categorical_accuracy: 0.7600 - val_accuracy: 0.7600\n",
      "Epoch 8/25\n",
      "92/92 [==============================] - 174s 2s/step - loss: 0.6112 - categorical_accuracy: 0.7733 - accuracy: 0.7733 - val_loss: 0.5817 - val_categorical_accuracy: 0.7904 - val_accuracy: 0.7904\n",
      "Epoch 9/25\n",
      "92/92 [==============================] - 176s 2s/step - loss: 0.6052 - categorical_accuracy: 0.7801 - accuracy: 0.7801 - val_loss: 0.5761 - val_categorical_accuracy: 0.7822 - val_accuracy: 0.7822\n",
      "Epoch 10/25\n",
      "92/92 [==============================] - 176s 2s/step - loss: 0.5898 - categorical_accuracy: 0.7788 - accuracy: 0.7788 - val_loss: 0.5963 - val_categorical_accuracy: 0.7760 - val_accuracy: 0.7760\n",
      "Epoch 11/25\n",
      "92/92 [==============================] - 175s 2s/step - loss: 0.5905 - categorical_accuracy: 0.7829 - accuracy: 0.7829 - val_loss: 0.5675 - val_categorical_accuracy: 0.7812 - val_accuracy: 0.7812\n",
      "Epoch 12/25\n",
      "92/92 [==============================] - 176s 2s/step - loss: 0.5738 - categorical_accuracy: 0.7859 - accuracy: 0.7859 - val_loss: 0.5378 - val_categorical_accuracy: 0.7989 - val_accuracy: 0.7989\n",
      "Epoch 13/25\n",
      "92/92 [==============================] - 176s 2s/step - loss: 0.5711 - categorical_accuracy: 0.7907 - accuracy: 0.7907 - val_loss: 0.5603 - val_categorical_accuracy: 0.7917 - val_accuracy: 0.7917\n",
      "Epoch 14/25\n",
      "92/92 [==============================] - 175s 2s/step - loss: 0.5606 - categorical_accuracy: 0.7934 - accuracy: 0.7934 - val_loss: 0.5600 - val_categorical_accuracy: 0.7805 - val_accuracy: 0.7805\n",
      "Epoch 15/25\n",
      "92/92 [==============================] - 176s 2s/step - loss: 0.5483 - categorical_accuracy: 0.7962 - accuracy: 0.7962 - val_loss: 0.5641 - val_categorical_accuracy: 0.7835 - val_accuracy: 0.7835\n",
      "Epoch 16/25\n",
      "92/92 [==============================] - 175s 2s/step - loss: 0.5515 - categorical_accuracy: 0.7972 - accuracy: 0.7972 - val_loss: 0.6219 - val_categorical_accuracy: 0.7689 - val_accuracy: 0.7689\n",
      "Epoch 17/25\n",
      "92/92 [==============================] - 176s 2s/step - loss: 0.5522 - categorical_accuracy: 0.7931 - accuracy: 0.7931 - val_loss: 0.5483 - val_categorical_accuracy: 0.7975 - val_accuracy: 0.7975\n",
      "Epoch 18/25\n",
      "92/92 [==============================] - 176s 2s/step - loss: 0.5555 - categorical_accuracy: 0.7924 - accuracy: 0.7924 - val_loss: 0.5282 - val_categorical_accuracy: 0.8085 - val_accuracy: 0.8085\n",
      "Epoch 19/25\n",
      "92/92 [==============================] - 175s 2s/step - loss: 0.5255 - categorical_accuracy: 0.8057 - accuracy: 0.8057 - val_loss: 0.5421 - val_categorical_accuracy: 0.8016 - val_accuracy: 0.8016\n",
      "Epoch 20/25\n",
      "92/92 [==============================] - 176s 2s/step - loss: 0.5338 - categorical_accuracy: 0.7999 - accuracy: 0.7999 - val_loss: 0.5358 - val_categorical_accuracy: 0.8040 - val_accuracy: 0.8040\n",
      "Epoch 21/25\n",
      "92/92 [==============================] - 175s 2s/step - loss: 0.5307 - categorical_accuracy: 0.8071 - accuracy: 0.8071 - val_loss: 0.5393 - val_categorical_accuracy: 0.7921 - val_accuracy: 0.7921\n",
      "Epoch 22/25\n",
      "92/92 [==============================] - 178s 2s/step - loss: 0.5139 - categorical_accuracy: 0.8095 - accuracy: 0.8095 - val_loss: 0.4901 - val_categorical_accuracy: 0.8177 - val_accuracy: 0.8177\n",
      "Epoch 23/25\n",
      "92/92 [==============================] - 175s 2s/step - loss: 0.4960 - categorical_accuracy: 0.8156 - accuracy: 0.8156 - val_loss: 0.4970 - val_categorical_accuracy: 0.8242 - val_accuracy: 0.8242\n",
      "Epoch 24/25\n",
      "92/92 [==============================] - 175s 2s/step - loss: 0.5103 - categorical_accuracy: 0.8112 - accuracy: 0.8112 - val_loss: 0.4844 - val_categorical_accuracy: 0.8163 - val_accuracy: 0.8163\n",
      "Epoch 25/25\n",
      "92/92 [==============================] - 178s 2s/step - loss: 0.5177 - categorical_accuracy: 0.8044 - accuracy: 0.8044 - val_loss: 0.5376 - val_categorical_accuracy: 0.7938 - val_accuracy: 0.7938\n"
     ]
    },
    {
     "data": {
      "text/plain": [
       "<tensorflow.python.keras.callbacks.History at 0x28b8010ffc8>"
      ]
     },
     "execution_count": 18,
     "metadata": {},
     "output_type": "execute_result"
    }
   ],
   "source": [
    "model.fit(x=x_train,validation_data=x_test,epochs=25)"
   ]
  },
  {
   "cell_type": "code",
   "execution_count": 19,
   "metadata": {},
   "outputs": [
    {
     "name": "stdout",
     "output_type": "stream",
     "text": [
      "Epoch 1/3\n",
      "92/92 [==============================] - 174s 2s/step - loss: 0.4946 - categorical_accuracy: 0.8139 - accuracy: 0.8139 - val_loss: 0.4787 - val_categorical_accuracy: 0.8184 - val_accuracy: 0.8184\n",
      "Epoch 2/3\n",
      "92/92 [==============================] - 178s 2s/step - loss: 0.4888 - categorical_accuracy: 0.8112 - accuracy: 0.8112 - val_loss: 0.4921 - val_categorical_accuracy: 0.8201 - val_accuracy: 0.8201\n",
      "Epoch 3/3\n",
      "92/92 [==============================] - 175s 2s/step - loss: 0.4655 - categorical_accuracy: 0.8279 - accuracy: 0.8279 - val_loss: 0.4478 - val_categorical_accuracy: 0.8389 - val_accuracy: 0.8389\n"
     ]
    },
    {
     "data": {
      "text/plain": [
       "<tensorflow.python.keras.callbacks.History at 0x28b8014a4c8>"
      ]
     },
     "execution_count": 19,
     "metadata": {},
     "output_type": "execute_result"
    }
   ],
   "source": [
    "model.fit(x=x_train,validation_data=x_test,epochs=3)"
   ]
  },
  {
   "cell_type": "code",
   "execution_count": 20,
   "metadata": {},
   "outputs": [
    {
     "name": "stdout",
     "output_type": "stream",
     "text": [
      "Epoch 1/5\n",
      "92/92 [==============================] - 177s 2s/step - loss: 0.4791 - categorical_accuracy: 0.8228 - accuracy: 0.8228 - val_loss: 0.4504 - val_categorical_accuracy: 0.8351 - val_accuracy: 0.8351\n",
      "Epoch 2/5\n",
      "92/92 [==============================] - 176s 2s/step - loss: 0.4720 - categorical_accuracy: 0.8279 - accuracy: 0.8279 - val_loss: 0.5169 - val_categorical_accuracy: 0.7955 - val_accuracy: 0.7955\n",
      "Epoch 3/5\n",
      "92/92 [==============================] - 174s 2s/step - loss: 0.4638 - categorical_accuracy: 0.8262 - accuracy: 0.8262 - val_loss: 0.4303 - val_categorical_accuracy: 0.8351 - val_accuracy: 0.8351\n",
      "Epoch 4/5\n",
      "92/92 [==============================] - 174s 2s/step - loss: 0.4541 - categorical_accuracy: 0.8320 - accuracy: 0.8320 - val_loss: 0.4309 - val_categorical_accuracy: 0.8447 - val_accuracy: 0.8447\n",
      "Epoch 5/5\n",
      "92/92 [==============================] - 174s 2s/step - loss: 0.4453 - categorical_accuracy: 0.8313 - accuracy: 0.8313 - val_loss: 0.4330 - val_categorical_accuracy: 0.8334 - val_accuracy: 0.8334\n"
     ]
    },
    {
     "data": {
      "text/plain": [
       "<tensorflow.python.keras.callbacks.History at 0x28b80162b88>"
      ]
     },
     "execution_count": 20,
     "metadata": {},
     "output_type": "execute_result"
    }
   ],
   "source": [
    "model.fit(x=x_train,validation_data=x_test,epochs=5)"
   ]
  },
  {
   "cell_type": "code",
   "execution_count": 21,
   "metadata": {},
   "outputs": [
    {
     "name": "stdout",
     "output_type": "stream",
     "text": [
      "Epoch 1/2\n",
      "92/92 [==============================] - 173s 2s/step - loss: 0.4481 - categorical_accuracy: 0.8358 - accuracy: 0.8358 - val_loss: 0.4729 - val_categorical_accuracy: 0.8283 - val_accuracy: 0.8283\n",
      "Epoch 2/2\n",
      "92/92 [==============================] - 175s 2s/step - loss: 0.4449 - categorical_accuracy: 0.8395 - accuracy: 0.8395 - val_loss: 0.3959 - val_categorical_accuracy: 0.8511 - val_accuracy: 0.8511\n"
     ]
    },
    {
     "data": {
      "text/plain": [
       "<tensorflow.python.keras.callbacks.History at 0x28b8019ea48>"
      ]
     },
     "execution_count": 21,
     "metadata": {},
     "output_type": "execute_result"
    }
   ],
   "source": [
    "model.fit(x=x_train,validation_data=x_test,epochs=2)"
   ]
  },
  {
   "cell_type": "code",
   "execution_count": 22,
   "metadata": {},
   "outputs": [
    {
     "name": "stdout",
     "output_type": "stream",
     "text": [
      "Epoch 1/5\n",
      "92/92 [==============================] - 170s 2s/step - loss: 0.4098 - categorical_accuracy: 0.8498 - accuracy: 0.8498 - val_loss: 0.4206 - val_categorical_accuracy: 0.8406 - val_accuracy: 0.8406\n",
      "Epoch 2/5\n",
      "92/92 [==============================] - 169s 2s/step - loss: 0.4317 - categorical_accuracy: 0.8378 - accuracy: 0.8378 - val_loss: 0.4093 - val_categorical_accuracy: 0.8498 - val_accuracy: 0.8498\n",
      "Epoch 3/5\n",
      "92/92 [==============================] - 168s 2s/step - loss: 0.4250 - categorical_accuracy: 0.8447 - accuracy: 0.8447 - val_loss: 0.4168 - val_categorical_accuracy: 0.8419 - val_accuracy: 0.8419\n",
      "Epoch 4/5\n",
      "92/92 [==============================] - 176s 2s/step - loss: 0.4425 - categorical_accuracy: 0.8313 - accuracy: 0.8313 - val_loss: 0.5784 - val_categorical_accuracy: 0.7914 - val_accuracy: 0.7914\n",
      "Epoch 5/5\n",
      "92/92 [==============================] - 177s 2s/step - loss: 0.4728 - categorical_accuracy: 0.8228 - accuracy: 0.8228 - val_loss: 0.3818 - val_categorical_accuracy: 0.8624 - val_accuracy: 0.8624\n"
     ]
    },
    {
     "data": {
      "text/plain": [
       "<tensorflow.python.keras.callbacks.History at 0x28b801e62c8>"
      ]
     },
     "execution_count": 22,
     "metadata": {},
     "output_type": "execute_result"
    }
   ],
   "source": [
    "model.fit(x=x_train,validation_data=x_test,epochs=5)"
   ]
  },
  {
   "cell_type": "code",
   "execution_count": 23,
   "metadata": {},
   "outputs": [],
   "source": [
    "model.save('mymodel.h5')"
   ]
  },
  {
   "cell_type": "code",
   "execution_count": 2,
   "metadata": {},
   "outputs": [],
   "source": [
    "from keras.models import load_model\n",
    "import numpy as np\n",
    "import cv2\n",
    "model=load_model('mymodel.h5')\n",
    "model.compile(optimizer = 'adam', loss = 'categorical_crossentropy', metrics = ['categorical_accuracy','accuracy'])    "
   ]
  },
  {
   "cell_type": "code",
   "execution_count": 7,
   "metadata": {},
   "outputs": [
    {
     "name": "stdout",
     "output_type": "stream",
     "text": [
      "92/92 [==============================] - 197s 2s/step - loss: 0.4318 - categorical_accuracy: 0.8392 - accuracy: 0.8392 - val_loss: 0.3788 - val_categorical_accuracy: 0.8651 - val_accuracy: 0.8651\n"
     ]
    },
    {
     "data": {
      "text/plain": [
       "<tensorflow.python.keras.callbacks.History at 0x26d7f59f8c8>"
      ]
     },
     "execution_count": 7,
     "metadata": {},
     "output_type": "execute_result"
    }
   ],
   "source": [
    "model.fit(x=x_train,validation_data=x_test,epochs=1)"
   ]
  },
  {
   "cell_type": "code",
   "execution_count": 8,
   "metadata": {},
   "outputs": [
    {
     "name": "stdout",
     "output_type": "stream",
     "text": [
      "Epoch 1/24\n",
      "92/92 [==============================] - 181s 2s/step - loss: 0.3956 - categorical_accuracy: 0.8566 - accuracy: 0.8566 - val_loss: 0.3803 - val_categorical_accuracy: 0.8580 - val_accuracy: 0.8580\n",
      "Epoch 2/24\n",
      "92/92 [==============================] - 182s 2s/step - loss: 0.4082 - categorical_accuracy: 0.8556 - accuracy: 0.8556 - val_loss: 0.3611 - val_categorical_accuracy: 0.8634 - val_accuracy: 0.8634\n",
      "Epoch 3/24\n",
      "92/92 [==============================] - 183s 2s/step - loss: 0.3949 - categorical_accuracy: 0.8494 - accuracy: 0.8494 - val_loss: 0.3735 - val_categorical_accuracy: 0.8624 - val_accuracy: 0.8624\n",
      "Epoch 4/24\n",
      "92/92 [==============================] - 183s 2s/step - loss: 0.3838 - categorical_accuracy: 0.8559 - accuracy: 0.8559 - val_loss: 0.3811 - val_categorical_accuracy: 0.8610 - val_accuracy: 0.8610\n",
      "Epoch 5/24\n",
      "92/92 [==============================] - 190s 2s/step - loss: 0.3793 - categorical_accuracy: 0.8590 - accuracy: 0.8590 - val_loss: 0.3462 - val_categorical_accuracy: 0.8686 - val_accuracy: 0.8686\n",
      "Epoch 6/24\n",
      "92/92 [==============================] - 196s 2s/step - loss: 0.3819 - categorical_accuracy: 0.8535 - accuracy: 0.8535 - val_loss: 0.3608 - val_categorical_accuracy: 0.8658 - val_accuracy: 0.8658\n",
      "Epoch 7/24\n",
      "92/92 [==============================] - 196s 2s/step - loss: 0.3618 - categorical_accuracy: 0.8682 - accuracy: 0.8682 - val_loss: 0.3660 - val_categorical_accuracy: 0.8648 - val_accuracy: 0.8648\n",
      "Epoch 8/24\n",
      "92/92 [==============================] - 194s 2s/step - loss: 0.3678 - categorical_accuracy: 0.8672 - accuracy: 0.8672 - val_loss: 0.3418 - val_categorical_accuracy: 0.8703 - val_accuracy: 0.8703\n",
      "Epoch 9/24\n",
      "92/92 [==============================] - 193s 2s/step - loss: 0.3563 - categorical_accuracy: 0.8662 - accuracy: 0.8662 - val_loss: 0.3574 - val_categorical_accuracy: 0.8699 - val_accuracy: 0.8699\n",
      "Epoch 10/24\n",
      "92/92 [==============================] - 195s 2s/step - loss: 0.3456 - categorical_accuracy: 0.8747 - accuracy: 0.8747 - val_loss: 0.3351 - val_categorical_accuracy: 0.8757 - val_accuracy: 0.8757\n",
      "Epoch 11/24\n",
      "92/92 [==============================] - 195s 2s/step - loss: 0.3400 - categorical_accuracy: 0.8788 - accuracy: 0.8788 - val_loss: 0.3449 - val_categorical_accuracy: 0.8730 - val_accuracy: 0.8730\n",
      "Epoch 12/24\n",
      "92/92 [==============================] - 224s 2s/step - loss: 0.3502 - categorical_accuracy: 0.8658 - accuracy: 0.8658 - val_loss: 0.3263 - val_categorical_accuracy: 0.8805 - val_accuracy: 0.8805\n",
      "Epoch 13/24\n",
      "92/92 [==============================] - 243s 3s/step - loss: 0.3215 - categorical_accuracy: 0.8812 - accuracy: 0.8812 - val_loss: 0.3255 - val_categorical_accuracy: 0.8761 - val_accuracy: 0.8761\n",
      "Epoch 14/24\n",
      "92/92 [==============================] - 243s 3s/step - loss: 0.3389 - categorical_accuracy: 0.8788 - accuracy: 0.8788 - val_loss: 0.3066 - val_categorical_accuracy: 0.8901 - val_accuracy: 0.8901\n",
      "Epoch 15/24\n",
      "92/92 [==============================] - 243s 3s/step - loss: 0.3292 - categorical_accuracy: 0.8812 - accuracy: 0.8812 - val_loss: 0.3376 - val_categorical_accuracy: 0.8740 - val_accuracy: 0.8740\n",
      "Epoch 16/24\n",
      "92/92 [==============================] - 242s 3s/step - loss: 0.3195 - categorical_accuracy: 0.8802 - accuracy: 0.8802 - val_loss: 0.3255 - val_categorical_accuracy: 0.8761 - val_accuracy: 0.8761\n",
      "Epoch 17/24\n",
      "92/92 [==============================] - 242s 3s/step - loss: 0.3235 - categorical_accuracy: 0.8863 - accuracy: 0.8863 - val_loss: 0.3466 - val_categorical_accuracy: 0.8744 - val_accuracy: 0.8744\n",
      "Epoch 18/24\n",
      "92/92 [==============================] - 231s 3s/step - loss: 0.3047 - categorical_accuracy: 0.8942 - accuracy: 0.8942 - val_loss: 0.3117 - val_categorical_accuracy: 0.8863 - val_accuracy: 0.8863\n",
      "Epoch 19/24\n",
      "92/92 [==============================] - 175s 2s/step - loss: 0.3183 - categorical_accuracy: 0.8873 - accuracy: 0.8873 - val_loss: 0.3073 - val_categorical_accuracy: 0.8877 - val_accuracy: 0.8877\n",
      "Epoch 20/24\n",
      "92/92 [==============================] - 175s 2s/step - loss: 0.3432 - categorical_accuracy: 0.8733 - accuracy: 0.8733 - val_loss: 0.3019 - val_categorical_accuracy: 0.8880 - val_accuracy: 0.8880\n",
      "Epoch 21/24\n",
      "92/92 [==============================] - 176s 2s/step - loss: 0.3501 - categorical_accuracy: 0.8764 - accuracy: 0.8764 - val_loss: 0.3101 - val_categorical_accuracy: 0.8935 - val_accuracy: 0.8935\n",
      "Epoch 22/24\n",
      "92/92 [==============================] - 176s 2s/step - loss: 0.3088 - categorical_accuracy: 0.8904 - accuracy: 0.8904 - val_loss: 0.2779 - val_categorical_accuracy: 0.8996 - val_accuracy: 0.8996\n",
      "Epoch 23/24\n",
      "92/92 [==============================] - 175s 2s/step - loss: 0.2719 - categorical_accuracy: 0.8976 - accuracy: 0.8976 - val_loss: 0.2866 - val_categorical_accuracy: 0.8911 - val_accuracy: 0.8911\n",
      "Epoch 24/24\n",
      "92/92 [==============================] - 175s 2s/step - loss: 0.2967 - categorical_accuracy: 0.8928 - accuracy: 0.8928 - val_loss: 0.2962 - val_categorical_accuracy: 0.8894 - val_accuracy: 0.8894\n"
     ]
    },
    {
     "data": {
      "text/plain": [
       "<tensorflow.python.keras.callbacks.History at 0x26d04088d48>"
      ]
     },
     "execution_count": 8,
     "metadata": {},
     "output_type": "execute_result"
    }
   ],
   "source": [
    "model.fit(x=x_train,validation_data=x_test,epochs=24)"
   ]
  },
  {
   "cell_type": "code",
   "execution_count": 9,
   "metadata": {},
   "outputs": [],
   "source": [
    "model.save('model.h5')"
   ]
  },
  {
   "cell_type": "code",
   "execution_count": 15,
   "metadata": {},
   "outputs": [
    {
     "name": "stdout",
     "output_type": "stream",
     "text": [
      "[[5.4036546e-03 4.8228353e-02 9.2867127e-04 9.4421786e-01 1.2215235e-03]]\n",
      "[3]\n"
     ]
    }
   ],
   "source": [
    "from skimage.transform import resize\n",
    "def detect(frame):\n",
    "    try:\n",
    "        img=resize(frame,(224,224))\n",
    "        img=np.expand_dims(img,axis=0)\n",
    "        if np.max(img)>1:\n",
    "            img=img/255.0\n",
    "        pred=model.predict(img)\n",
    "        print(pred)\n",
    "        pred_class=model.predict_classes(img)\n",
    "        print(pred_class)\n",
    "    except AttributeError:\n",
    "        print('Shape not found')\n",
    "frame=cv2.imread('0ada12c0e78f.png')\n",
    "data=detect(frame)    "
   ]
  },
  {
   "cell_type": "code",
   "execution_count": null,
   "metadata": {},
   "outputs": [],
   "source": []
  }
 ],
 "metadata": {
  "kernelspec": {
   "display_name": "Python 3",
   "language": "python",
   "name": "python3"
  },
  "language_info": {
   "codemirror_mode": {
    "name": "ipython",
    "version": 3
   },
   "file_extension": ".py",
   "mimetype": "text/x-python",
   "name": "python",
   "nbconvert_exporter": "python",
   "pygments_lexer": "ipython3",
   "version": "3.7.4"
  }
 },
 "nbformat": 4,
 "nbformat_minor": 4
}
